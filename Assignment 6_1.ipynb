{
 "cells": [
  {
   "cell_type": "code",
   "execution_count": 12,
   "metadata": {},
   "outputs": [
    {
     "name": "stdout",
     "output_type": "stream",
     "text": [
      "When increasing True\n",
      "[[    1    10   100  1000]\n",
      " [    1    20   400  8000]\n",
      " [    1    30   900 27000]\n",
      " [    1    40  1600 64000]]\n",
      "When increasing False\n",
      "[[ 1000   100    10     1]\n",
      " [ 8000   400    20     1]\n",
      " [27000   900    30     1]\n",
      " [64000  1600    40     1]]\n"
     ]
    }
   ],
   "source": [
    "#Course: Data Science Masters\n",
    "#Title: Python - Assignment 6.1\n",
    "#Problem Statement: function so that the columns of the output matrix are powers of the input vector.\n",
    "#      Hint: Such a matrix with a geometric progression in each row is named for Alexandre-Theophile Vandermonde.                   \n",
    "#Tool: Jupyter notebook \n",
    "#Author: Krishna A\n",
    "#Date: 23-2-2018 (DD/MM/YYYY)\n",
    "\n",
    "import numpy as np\n",
    "npList = np.array([10,20,30,40])\n",
    "\n",
    "print(\"When increasing True\")\n",
    "print(np.vander(npList,increasing=True))  #Using vander static method in numpy library\n",
    "\n",
    "print(\"When increasing False\")\n",
    "print(np.vander(npList,increasing=False))  #Using vander static method in numpy library"
   ]
  },
  {
   "cell_type": "code",
   "execution_count": null,
   "metadata": {
    "collapsed": true
   },
   "outputs": [],
   "source": []
  }
 ],
 "metadata": {
  "kernelspec": {
   "display_name": "Python 3",
   "language": "python",
   "name": "python3"
  },
  "language_info": {
   "codemirror_mode": {
    "name": "ipython",
    "version": 3
   },
   "file_extension": ".py",
   "mimetype": "text/x-python",
   "name": "python",
   "nbconvert_exporter": "python",
   "pygments_lexer": "ipython3",
   "version": "3.6.3"
  }
 },
 "nbformat": 4,
 "nbformat_minor": 2
}
